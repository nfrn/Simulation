{
  "nbformat": 4,
  "nbformat_minor": 0,
  "metadata": {
    "colab": {
      "name": "Untitled8.ipynb",
      "private_outputs": true,
      "provenance": [],
      "authorship_tag": "ABX9TyM9cNkxcp43SIa1KNfLtoEY",
      "include_colab_link": true
    },
    "kernelspec": {
      "name": "python3",
      "display_name": "Python 3"
    }
  },
  "cells": [
    {
      "cell_type": "markdown",
      "metadata": {
        "id": "view-in-github",
        "colab_type": "text"
      },
      "source": [
        "<a href=\"https://colab.research.google.com/github/nfrn/Simulation/blob/master/Untitled8.ipynb\" target=\"_parent\"><img src=\"https://colab.research.google.com/assets/colab-badge.svg\" alt=\"Open In Colab\"/></a>"
      ]
    },
    {
      "cell_type": "code",
      "metadata": {
        "id": "-w8KY4xRTo_q"
      },
      "source": [
        "pip install libpff-python"
      ],
      "execution_count": null,
      "outputs": []
    },
    {
      "cell_type": "code",
      "metadata": {
        "id": "Jan8wz2ET9cw"
      },
      "source": [
        "import os\r\n",
        "import sys\r\n",
        "import argparse\r\n",
        "import json\r\n",
        "from shutil import rmtree\r\n",
        "import re\r\n",
        "\r\n",
        "import pypff\r\n",
        "\r\n",
        "sys.setrecursionlimit(10000)\r\n",
        "\"\"\"\r\n",
        "pypff download and installation guide:\r\n",
        "https://github.com/libyal/libpff/wiki/Building\r\n",
        "Example of usage:\r\n",
        "python2.7 extractMessagesFromPST.py --pst-file '/backup.pst' --output-dir 'test/'\r\n",
        "\"\"\"\r\n",
        "__author__ = 'Denis Candido'\r\n",
        "__date__ = '20180406'\r\n",
        "__version__ = 0.02\r\n",
        "__description__ = 'Script used to extract messages from PST file to json format'\r\n",
        "\r\n",
        "class MessageExtractor(object):\r\n",
        "    def __init__(self, pst_file):\r\n",
        "        opst = pypff.open(pst_file)\r\n",
        "        self.root = opst.get_root_folder()\r\n",
        "\r\n",
        "    def extract(self, out_dir):\r\n",
        "        self._folderTraverse(self.root, out_dir)\r\n",
        "\r\n",
        "    def _folderTraverse(self, base, out_dir, first=True):\r\n",
        "        \"\"\"\r\n",
        "        The folderTraverse function walks through the base of the folder and scans for sub-folders and messages\r\n",
        "        :param base: Base folder to scan for new items within the folder.\r\n",
        "        :return: None\r\n",
        "        \"\"\"\r\n",
        "        if first:\r\n",
        "            self._writeMessages(base, out_dir)\r\n",
        "            print(base.number_of_sub_messages)\r\n",
        "        for folder in base.sub_folders:\r\n",
        "            print(folder.number_of_sub_messages)\r\n",
        "            if folder.number_of_sub_folders > 0:\r\n",
        "                self._folderTraverse(folder, out_dir, first=False) # Call new folder to traverse:\r\n",
        "            self._writeMessages(folder, out_dir)\r\n",
        "            \r\n",
        "\r\n",
        "    def _check_and_rename(self, file, add=0):\r\n",
        "        original_file = file\r\n",
        "        if add != 0:\r\n",
        "            split = file.split(\".\")\r\n",
        "            part1 = split[0] + \"_\" + str(add)\r\n",
        "            file = \".\".join([part1, split[1]])\r\n",
        "        if os.path.isfile(file):\r\n",
        "            add += 1\r\n",
        "            file = self._check_and_rename(original_file, add=add)\r\n",
        "\r\n",
        "        return file\r\n",
        "\r\n",
        "    def _writeMessages(self, folder, out_dir):\r\n",
        "        \"\"\"\r\n",
        "        The writeMessages function reads folder messages if present and write each message at the out_dir as\r\n",
        "        a json file.\r\n",
        "        :param folder: pypff.Folder object\r\n",
        "        :return: None\r\n",
        "        \"\"\"\r\n",
        "        for message in folder.sub_messages:\r\n",
        "            message_dict = self._processMessage(message)\r\n",
        "            json_file_name = out_dir + re.sub('\\/', '', message_dict['subject']) + '.json'\r\n",
        "            json_file_name = self._check_and_rename(json_file_name)\r\n",
        "            with open(json_file_name, 'w') as f:\r\n",
        "                json.dump(message_dict, f)\r\n",
        "\r\n",
        "    def _processMessage(self, message):\r\n",
        "        \"\"\"\r\n",
        "        The processMessage function processes multi-field messages to simplify collection of information\r\n",
        "        :param message: pypff.Message object\r\n",
        "        :return: A dictionary with message fields (values) and their data (keys)\r\n",
        "        \"\"\"\r\n",
        "        return {\r\n",
        "            \"subject\": message.subject,\r\n",
        "            \"sender\": message.sender_name,\r\n",
        "            \"header\": message.transport_headers,\r\n",
        "            \"body\": message.plain_text_body,\r\n",
        "            #\"client_submit_time\": message.client_submit_time,\r\n",
        "            #\"delivery_time\": message.delivery_time,\r\n",
        "            # \"attachments\": message.attachments,\r\n",
        "            \"conversation_topic\": message.conversation_topic,\r\n",
        "            \"number_of_attachments\": message.number_of_attachments\r\n",
        "        }\r\n",
        "\r\n",
        "messageExtractor = MessageExtractor(\"teste.pst\")\r\n",
        "messageExtractor.extract(\"/\")"
      ],
      "execution_count": null,
      "outputs": []
    }
  ]
}